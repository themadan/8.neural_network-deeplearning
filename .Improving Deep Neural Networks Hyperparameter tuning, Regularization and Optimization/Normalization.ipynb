{
  "nbformat": 4,
  "nbformat_minor": 0,
  "metadata": {
    "colab": {
      "name": "Untitled1.ipynb",
      "provenance": []
    },
    "kernelspec": {
      "name": "python3",
      "display_name": "Python 3"
    }
  },
  "cells": [
    {
      "cell_type": "markdown",
      "metadata": {
        "id": "KWtdi9nZ53FY",
        "colab_type": "text"
      },
      "source": [
        "# Normalization \n",
        "* why normalization ?\n",
        " If we don't ,higher value dominant lower values,making the lower unless in the dataset .Therefor ,the network will be unstable, and the exploding gradient problem might happen as well .\n",
        " Moreover ,the training speed would decrease .\n",
        " Therefor,all our data should be on the same scale.\n",
        "\n",
        " * 1.Normalization(min-max normalization)\n",
        " * 2.Standardization"
      ]
    },
    {
      "cell_type": "code",
      "metadata": {
        "id": "XE-St3P0wfFS",
        "colab_type": "code",
        "colab": {}
      },
      "source": [
        ""
      ],
      "execution_count": 0,
      "outputs": []
    }
  ]
}