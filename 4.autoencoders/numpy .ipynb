{
  "nbformat": 4,
  "nbformat_minor": 0,
  "metadata": {
    "kernelspec": {
      "display_name": "Python 3",
      "language": "python",
      "name": "python3"
    },
    "language_info": {
      "codemirror_mode": {
        "name": "ipython",
        "version": 3
      },
      "file_extension": ".py",
      "mimetype": "text/x-python",
      "name": "python",
      "nbconvert_exporter": "python",
      "pygments_lexer": "ipython3",
      "version": "3.7.4"
    },
    "colab": {
      "name": "numpy .ipynb",
      "provenance": []
    }
  },
  "cells": [
    {
      "cell_type": "markdown",
      "metadata": {
        "id": "vYVH9K1p42-X",
        "colab_type": "text"
      },
      "source": [
        "[Blog and code for Auto encoder (maile tal gareko yahi blog bata ho)](https://blog.keras.io/building-autoencoders-in-keras.html)"
      ]
    },
    {
      "cell_type": "markdown",
      "metadata": {
        "id": "lY-qjYLKm5KH",
        "colab_type": "text"
      },
      "source": [
        "# AUTO ENCODER \n",
        "* Unsupervise machine  Learning similar to the pca.\n",
        "* it minimize the same objective function as pca.\n",
        "* It is a neural network.\n",
        "* The neural network's target output us its input.\n",
        "* Reconstruct the input \n",
        "* Label are input\n",
        "* Dimentionality reduction\n",
        "\n",
        "#  PCA VS AUTOENCODER \n",
        "* Auto encoder can learn non-linear transform unlike PCA.\n",
        "* An autoencoder doesn't have to learn dense layers. \n",
        "* More efficiency to learn several layers with an autoencoder.\n",
        "* It gives a representation as the output of each layer.\n",
        "\n",
        "# WHY AUTOENCODER\n",
        "* Data Denosing .\n",
        "* More accurate then pca.\n",
        "\n",
        "# WHAT IS AUTOENCODER \n",
        "* An autoencoder neural network is an unsupervise machine learning algorithm that applies backpropagation ,setting the target values to be equal to the inputs.\n"
      ]
    },
    {
      "cell_type": "markdown",
      "metadata": {
        "id": "Cddr8kKHqRSs",
        "colab_type": "text"
      },
      "source": [
        "# There are 4 hyperparameter that we need to set before training an autoencoder.\n",
        "\n",
        "* Code:The number of nodes in the middle layer.small size results in more compression.\n",
        "\n",
        "* Number of layer :encoder ra decoder ma vayako number of layer input ra output bahek.\n",
        "* Loss function:either mean squared error or binary crossentropy.\n",
        "if the input id the range of [0,1] then we typically use crossentropy ,otherwise we use the mean square error."
      ]
    },
    {
      "cell_type": "code",
      "metadata": {
        "id": "58HN5EGKmXRL",
        "colab_type": "code",
        "colab": {
          "base_uri": "https://localhost:8080/",
          "height": 35
        },
        "outputId": "1074c92b-7f46-46ed-8d28-4351dee427f7"
      },
      "source": [
        "#!pip install tensorflow==2.0.0\n",
        "import tensorflow as tf\n",
        "print(tf.__version__)\n",
        "from  tensorflow.keras.layers  import Input,Dense\n",
        "from tensorflow.keras.models import Model"
      ],
      "execution_count": 25,
      "outputs": [
        {
          "output_type": "stream",
          "text": [
            "2.0.0\n"
          ],
          "name": "stdout"
        }
      ]
    },
    {
      "cell_type": "code",
      "metadata": {
        "id": "odj1qNGpvPlC",
        "colab_type": "code",
        "colab": {}
      },
      "source": [
        "from keras.datasets import mnist\n",
        "import numpy as np\n"
      ],
      "execution_count": 0,
      "outputs": []
    },
    {
      "cell_type": "code",
      "metadata": {
        "id": "37OyOtDUvYQg",
        "colab_type": "code",
        "colab": {
          "base_uri": "https://localhost:8080/",
          "height": 53
        },
        "outputId": "f2345485-8985-4f7d-ada5-839cee4909f9"
      },
      "source": [
        "(x_train,_),(x_test,_)=mnist.load_data()\n",
        "x_train=x_train.astype('float32')/255\n",
        "x_test=x_test.astype('float32')/255\n",
        "x_train=x_train.reshape((len(x_train),np.prod(x_train.shape[1:]))) # flatten the input image 28*28 into 784 size.\n",
        "x_test=x_test.reshape((len(x_test),np.prod(x_test.shape[1:])))\n",
        "print (x_train.shape)\n",
        "print(x_test.shape)\n"
      ],
      "execution_count": 27,
      "outputs": [
        {
          "output_type": "stream",
          "text": [
            "(60000, 784)\n",
            "(10000, 784)\n"
          ],
          "name": "stdout"
        }
      ]
    },
    {
      "cell_type": "markdown",
      "metadata": {
        "id": "CfS1U4xQzDQt",
        "colab_type": "text"
      },
      "source": [
        "# single fully-connected neural layer as encoder and decoder."
      ]
    },
    {
      "cell_type": "code",
      "metadata": {
        "id": "5wVbXUaEmXRc",
        "colab_type": "code",
        "colab": {}
      },
      "source": [
        "input_size=784\n",
        "hidden_size=128\n",
        "encoding_dim=32 # this is the size of our encoded representation\n",
        "input_img=Input(shape=(input_size,))\n",
        "encoded=Dense(encoding_dim,activation='relu')(input_img)\n",
        "\n",
        "decoded=Dense(input_size,activation='sigmoid')(encoded)\n",
        "\n",
        "autoencoder=Model(input_img,decoded)\n",
        "autoencoder.compile(optimizer='adam',loss='binary_crossentropy')\n"
      ],
      "execution_count": 0,
      "outputs": []
    },
    {
      "cell_type": "markdown",
      "metadata": {
        "id": "3fCvxDgizaOa",
        "colab_type": "text"
      },
      "source": [
        "# Seperate encoder model"
      ]
    },
    {
      "cell_type": "markdown",
      "metadata": {
        "id": "EWxNIRj6zljH",
        "colab_type": "text"
      },
      "source": [
        "# model maps an input to its encoded representation"
      ]
    },
    {
      "cell_type": "code",
      "metadata": {
        "id": "-eQ9xfcxzSeL",
        "colab_type": "code",
        "colab": {}
      },
      "source": [
        "encoder=Model(input_img,encoded)  # This model maps an input to its encoded  representation\n"
      ],
      "execution_count": 0,
      "outputs": []
    },
    {
      "cell_type": "markdown",
      "metadata": {
        "id": "rjsntboEz38l",
        "colab_type": "text"
      },
      "source": [
        "# As wel as the decoder model\n",
        "\n"
      ]
    },
    {
      "cell_type": "code",
      "metadata": {
        "id": "UPBYOKcqz3DN",
        "colab_type": "code",
        "colab": {}
      },
      "source": [
        "encoded_input=Input(shape=(encoding_dim,))\n",
        "decoder_layer=autoencoder.layers[-1]\n",
        "decoder=Model(encoded_input,decoder_layer(encoded_input))"
      ],
      "execution_count": 0,
      "outputs": []
    },
    {
      "cell_type": "code",
      "metadata": {
        "id": "70epxPJoxiIS",
        "colab_type": "code",
        "colab": {
          "base_uri": "https://localhost:8080/",
          "height": 1000
        },
        "outputId": "3b3985bb-3483-44e0-a4f7-836958404b12"
      },
      "source": [
        "autoencoder.fit(x_train,x_train,epochs=50,batch_size=256,shuffle=True,validation_data=(x_test,x_test))"
      ],
      "execution_count": 31,
      "outputs": [
        {
          "output_type": "stream",
          "text": [
            "Train on 60000 samples, validate on 10000 samples\n",
            "Epoch 1/50\n",
            "60000/60000 [==============================] - 4s 67us/sample - loss: 0.2780 - val_loss: 0.1911\n",
            "Epoch 2/50\n",
            "60000/60000 [==============================] - 3s 56us/sample - loss: 0.1715 - val_loss: 0.1541\n",
            "Epoch 3/50\n",
            "60000/60000 [==============================] - 3s 57us/sample - loss: 0.1445 - val_loss: 0.1335\n",
            "Epoch 4/50\n",
            "60000/60000 [==============================] - 3s 56us/sample - loss: 0.1278 - val_loss: 0.1202\n",
            "Epoch 5/50\n",
            "60000/60000 [==============================] - 3s 55us/sample - loss: 0.1171 - val_loss: 0.1119\n",
            "Epoch 6/50\n",
            "60000/60000 [==============================] - 3s 55us/sample - loss: 0.1102 - val_loss: 0.1061\n",
            "Epoch 7/50\n",
            "60000/60000 [==============================] - 3s 56us/sample - loss: 0.1053 - val_loss: 0.1021\n",
            "Epoch 8/50\n",
            "60000/60000 [==============================] - 3s 56us/sample - loss: 0.1017 - val_loss: 0.0990\n",
            "Epoch 9/50\n",
            "60000/60000 [==============================] - 3s 55us/sample - loss: 0.0992 - val_loss: 0.0968\n",
            "Epoch 10/50\n",
            "60000/60000 [==============================] - 3s 53us/sample - loss: 0.0974 - val_loss: 0.0953\n",
            "Epoch 11/50\n",
            "60000/60000 [==============================] - 3s 56us/sample - loss: 0.0962 - val_loss: 0.0944\n",
            "Epoch 12/50\n",
            "60000/60000 [==============================] - 3s 56us/sample - loss: 0.0954 - val_loss: 0.0938\n",
            "Epoch 13/50\n",
            "60000/60000 [==============================] - 3s 56us/sample - loss: 0.0949 - val_loss: 0.0934\n",
            "Epoch 14/50\n",
            "60000/60000 [==============================] - 3s 56us/sample - loss: 0.0946 - val_loss: 0.0931\n",
            "Epoch 15/50\n",
            "60000/60000 [==============================] - 3s 56us/sample - loss: 0.0943 - val_loss: 0.0928\n",
            "Epoch 16/50\n",
            "60000/60000 [==============================] - 3s 54us/sample - loss: 0.0941 - val_loss: 0.0927\n",
            "Epoch 17/50\n",
            "60000/60000 [==============================] - 3s 55us/sample - loss: 0.0939 - val_loss: 0.0925\n",
            "Epoch 18/50\n",
            "60000/60000 [==============================] - 3s 56us/sample - loss: 0.0938 - val_loss: 0.0924\n",
            "Epoch 19/50\n",
            "60000/60000 [==============================] - 3s 56us/sample - loss: 0.0937 - val_loss: 0.0923\n",
            "Epoch 20/50\n",
            "60000/60000 [==============================] - 3s 56us/sample - loss: 0.0936 - val_loss: 0.0922\n",
            "Epoch 21/50\n",
            "60000/60000 [==============================] - 3s 56us/sample - loss: 0.0935 - val_loss: 0.0923\n",
            "Epoch 22/50\n",
            "60000/60000 [==============================] - 3s 56us/sample - loss: 0.0934 - val_loss: 0.0922\n",
            "Epoch 23/50\n",
            "60000/60000 [==============================] - 3s 55us/sample - loss: 0.0933 - val_loss: 0.0920\n",
            "Epoch 24/50\n",
            "60000/60000 [==============================] - 3s 55us/sample - loss: 0.0933 - val_loss: 0.0921\n",
            "Epoch 25/50\n",
            "60000/60000 [==============================] - 3s 56us/sample - loss: 0.0932 - val_loss: 0.0920\n",
            "Epoch 26/50\n",
            "60000/60000 [==============================] - 3s 55us/sample - loss: 0.0932 - val_loss: 0.0919\n",
            "Epoch 27/50\n",
            "60000/60000 [==============================] - 3s 57us/sample - loss: 0.0931 - val_loss: 0.0919\n",
            "Epoch 28/50\n",
            "60000/60000 [==============================] - 3s 55us/sample - loss: 0.0931 - val_loss: 0.0919\n",
            "Epoch 29/50\n",
            "60000/60000 [==============================] - 3s 55us/sample - loss: 0.0931 - val_loss: 0.0920\n",
            "Epoch 30/50\n",
            "60000/60000 [==============================] - 3s 57us/sample - loss: 0.0930 - val_loss: 0.0920\n",
            "Epoch 31/50\n",
            "60000/60000 [==============================] - 3s 56us/sample - loss: 0.0930 - val_loss: 0.0918\n",
            "Epoch 32/50\n",
            "60000/60000 [==============================] - 3s 56us/sample - loss: 0.0930 - val_loss: 0.0918\n",
            "Epoch 33/50\n",
            "60000/60000 [==============================] - 3s 56us/sample - loss: 0.0929 - val_loss: 0.0917\n",
            "Epoch 34/50\n",
            "60000/60000 [==============================] - 3s 54us/sample - loss: 0.0929 - val_loss: 0.0917\n",
            "Epoch 35/50\n",
            "60000/60000 [==============================] - 3s 55us/sample - loss: 0.0929 - val_loss: 0.0917\n",
            "Epoch 36/50\n",
            "60000/60000 [==============================] - 3s 55us/sample - loss: 0.0929 - val_loss: 0.0917\n",
            "Epoch 37/50\n",
            "60000/60000 [==============================] - 3s 57us/sample - loss: 0.0928 - val_loss: 0.0917\n",
            "Epoch 38/50\n",
            "60000/60000 [==============================] - 3s 56us/sample - loss: 0.0928 - val_loss: 0.0917\n",
            "Epoch 39/50\n",
            "60000/60000 [==============================] - 3s 56us/sample - loss: 0.0928 - val_loss: 0.0916\n",
            "Epoch 40/50\n",
            "60000/60000 [==============================] - 3s 57us/sample - loss: 0.0928 - val_loss: 0.0916\n",
            "Epoch 41/50\n",
            "60000/60000 [==============================] - 3s 54us/sample - loss: 0.0927 - val_loss: 0.0915\n",
            "Epoch 42/50\n",
            "60000/60000 [==============================] - 3s 55us/sample - loss: 0.0927 - val_loss: 0.0915\n",
            "Epoch 43/50\n",
            "60000/60000 [==============================] - 3s 56us/sample - loss: 0.0927 - val_loss: 0.0916\n",
            "Epoch 44/50\n",
            "60000/60000 [==============================] - 3s 55us/sample - loss: 0.0927 - val_loss: 0.0917\n",
            "Epoch 45/50\n",
            "60000/60000 [==============================] - 3s 56us/sample - loss: 0.0927 - val_loss: 0.0914\n",
            "Epoch 46/50\n",
            "60000/60000 [==============================] - 3s 54us/sample - loss: 0.0926 - val_loss: 0.0915\n",
            "Epoch 47/50\n",
            "60000/60000 [==============================] - 3s 55us/sample - loss: 0.0926 - val_loss: 0.0915\n",
            "Epoch 48/50\n",
            "60000/60000 [==============================] - 3s 55us/sample - loss: 0.0926 - val_loss: 0.0915\n",
            "Epoch 49/50\n",
            "60000/60000 [==============================] - 3s 56us/sample - loss: 0.0926 - val_loss: 0.0914\n",
            "Epoch 50/50\n",
            "60000/60000 [==============================] - 3s 56us/sample - loss: 0.0926 - val_loss: 0.0915\n"
          ],
          "name": "stdout"
        },
        {
          "output_type": "execute_result",
          "data": {
            "text/plain": [
              "<tensorflow.python.keras.callbacks.History at 0x7f92e3913dd8>"
            ]
          },
          "metadata": {
            "tags": []
          },
          "execution_count": 31
        }
      ]
    },
    {
      "cell_type": "code",
      "metadata": {
        "id": "QXnYxIzHmXRq",
        "colab_type": "code",
        "colab": {}
      },
      "source": [
        "encoded_imgs=encoder.predict(x_test)\n",
        "decoded_imgs=decoder.predict(encoded_imgs)\n"
      ],
      "execution_count": 0,
      "outputs": []
    },
    {
      "cell_type": "code",
      "metadata": {
        "id": "FQtSnt9EmXRu",
        "colab_type": "code",
        "colab": {
          "base_uri": "https://localhost:8080/",
          "height": 268
        },
        "outputId": "952ff1d1-c453-4fcf-a706-0c96bda6d2d0"
      },
      "source": [
        "import matplotlib.pyplot as plt\n",
        "n=10\n",
        "plt.figure(figsize=(20,4))\n",
        "for i in range(n):\n",
        "  # display original\n",
        "  ax=plt.subplot(2,n,i+1)\n",
        "  plt.imshow(x_test[i].reshape(28,28))\n",
        "  plt.gray()\n",
        "  ax.get_xaxis().set_visible(False)\n",
        "  ax.get_yaxis().set_visible(False)\n",
        "\n",
        "  # display reconstruction\n",
        "  ax=plt.subplot(2,n,i+1+n)\n",
        "  plt.imshow(decoded_imgs[i].reshape(28,28))\n",
        "  plt.gray()\n",
        "  ax.get_xaxis().set_visible(False)\n",
        "  ax.get_yaxis().set_visible(False)\n",
        "plt.show()\n",
        "\n"
      ],
      "execution_count": 39,
      "outputs": [
        {
          "output_type": "display_data",
          "data": {
            "image/png": "[encoded data removed]",
            "text/plain": [
              "<Figure size 1440x288 with 20 Axes>"
            ]
          },
          "metadata": {
            "tags": []
          }
        }
      ]
    },
    {
      "cell_type": "markdown",
      "metadata": {
        "id": "EIE-Dmr62-xz",
        "colab_type": "text"
      },
      "source": [
        "#Adding a sparsity constraint on the encoded representations\n",
        "In the previous example, the representations were only constrained by the size of the hidden layer (32). In such a situation, what typically happens is that the hidden layer is learning an approximation of PCA (principal component analysis). But another way to constrain the representations to be compact is to add a sparsity contraint on the activity of the hidden representations, so fewer units would \"fire\" at a given time. In Keras, this can be done by adding an activity_regularizer to our Dense layer:\n"
      ]
    },
    {
      "cell_type": "code",
      "metadata": {
        "id": "51CFrftbmXRx",
        "colab_type": "code",
        "colab": {}
      },
      "source": [
        "from keras import regularizers\n",
        "\n",
        "encoding_dim = 32\n",
        "\n",
        "input_img = Input(shape=(784,))\n",
        "# add a Dense layer with a L1 activity regularizer\n",
        "encoded = Dense(encoding_dim, activation='relu',\n",
        "                activity_regularizer=regularizers.l1(10e-5))(input_img)\n",
        "decoded = Dense(784, activation='sigmoid')(encoded)\n",
        "\n",
        "autoencoder = Model(input_img, decoded)"
      ],
      "execution_count": 0,
      "outputs": []
    },
    {
      "cell_type": "markdown",
      "metadata": {
        "id": "h3MMdOwz3Ygs",
        "colab_type": "text"
      },
      "source": [
        "# Deep autoencoder\n",
        "We do not have to limit ourselves to a single layer as encoder or decoder, we could instead use a stack of layers, such as:"
      ]
    },
    {
      "cell_type": "code",
      "metadata": {
        "id": "NmOWFmsI3Xyc",
        "colab_type": "code",
        "colab": {}
      },
      "source": [
        "input_img = Input(shape=(784,))\n",
        "encoded = Dense(128, activation='relu')(input_img)\n",
        "encoded = Dense(64, activation='relu')(encoded)\n",
        "encoded = Dense(32, activation='relu')(encoded)\n",
        "\n",
        "decoded = Dense(64, activation='relu')(encoded)\n",
        "decoded = Dense(128, activation='relu')(decoded)\n",
        "decoded = Dense(784, activation='sigmoid')(decoded)"
      ],
      "execution_count": 0,
      "outputs": []
    },
    {
      "cell_type": "code",
      "metadata": {
        "id": "zyi3OX0EmXR1",
        "colab_type": "code",
        "colab": {
          "base_uri": "https://localhost:8080/",
          "height": 1000
        },
        "outputId": "5b4b2589-0fce-46bb-f14a-211e69f65752"
      },
      "source": [
        "autoencoder = Model(input_img, decoded)\n",
        "autoencoder.compile(optimizer='adadelta', loss='binary_crossentropy')\n",
        "\n",
        "autoencoder.fit(x_train, x_train,\n",
        "                epochs=100,\n",
        "                batch_size=256,\n",
        "                shuffle=True,\n",
        "                validation_data=(x_test, x_test))"
      ],
      "execution_count": 42,
      "outputs": [
        {
          "output_type": "stream",
          "text": [
            "Train on 60000 samples, validate on 10000 samples\n",
            "Epoch 1/100\n",
            "60000/60000 [==============================] - 6s 95us/sample - loss: 0.6932 - val_loss: 0.6932\n",
            "Epoch 2/100\n",
            "60000/60000 [==============================] - 5s 86us/sample - loss: 0.6932 - val_loss: 0.6931\n",
            "Epoch 3/100\n",
            "60000/60000 [==============================] - 5s 87us/sample - loss: 0.6931 - val_loss: 0.6931\n",
            "Epoch 4/100\n",
            "60000/60000 [==============================] - 5s 87us/sample - loss: 0.6930 - val_loss: 0.6930\n",
            "Epoch 5/100\n",
            "60000/60000 [==============================] - 5s 87us/sample - loss: 0.6929 - val_loss: 0.6929\n",
            "Epoch 6/100\n",
            "60000/60000 [==============================] - 5s 85us/sample - loss: 0.6929 - val_loss: 0.6928\n",
            "Epoch 7/100\n",
            "60000/60000 [==============================] - 5s 87us/sample - loss: 0.6928 - val_loss: 0.6927\n",
            "Epoch 8/100\n",
            "60000/60000 [==============================] - 5s 85us/sample - loss: 0.6927 - val_loss: 0.6927\n",
            "Epoch 9/100\n",
            "60000/60000 [==============================] - 5s 87us/sample - loss: 0.6926 - val_loss: 0.6926\n",
            "Epoch 10/100\n",
            "60000/60000 [==============================] - 5s 87us/sample - loss: 0.6926 - val_loss: 0.6925\n",
            "Epoch 11/100\n",
            "60000/60000 [==============================] - 5s 88us/sample - loss: 0.6925 - val_loss: 0.6924\n",
            "Epoch 12/100\n",
            "60000/60000 [==============================] - 5s 86us/sample - loss: 0.6924 - val_loss: 0.6924\n",
            "Epoch 13/100\n",
            "60000/60000 [==============================] - 5s 85us/sample - loss: 0.6923 - val_loss: 0.6923\n",
            "Epoch 14/100\n",
            "60000/60000 [==============================] - 5s 87us/sample - loss: 0.6923 - val_loss: 0.6922\n",
            "Epoch 15/100\n",
            "60000/60000 [==============================] - 5s 86us/sample - loss: 0.6922 - val_loss: 0.6921\n",
            "Epoch 16/100\n",
            "60000/60000 [==============================] - 5s 87us/sample - loss: 0.6921 - val_loss: 0.6921\n",
            "Epoch 17/100\n",
            "60000/60000 [==============================] - 5s 85us/sample - loss: 0.6920 - val_loss: 0.6920\n",
            "Epoch 18/100\n",
            "60000/60000 [==============================] - 5s 86us/sample - loss: 0.6920 - val_loss: 0.6919\n",
            "Epoch 19/100\n",
            "60000/60000 [==============================] - 5s 87us/sample - loss: 0.6919 - val_loss: 0.6918\n",
            "Epoch 20/100\n",
            "60000/60000 [==============================] - 5s 84us/sample - loss: 0.6918 - val_loss: 0.6918\n",
            "Epoch 21/100\n",
            "60000/60000 [==============================] - 5s 87us/sample - loss: 0.6917 - val_loss: 0.6917\n",
            "Epoch 22/100\n",
            "60000/60000 [==============================] - 5s 87us/sample - loss: 0.6917 - val_loss: 0.6916\n",
            "Epoch 23/100\n",
            "60000/60000 [==============================] - 5s 87us/sample - loss: 0.6916 - val_loss: 0.6915\n",
            "Epoch 24/100\n",
            "60000/60000 [==============================] - 5s 85us/sample - loss: 0.6915 - val_loss: 0.6915\n",
            "Epoch 25/100\n",
            "60000/60000 [==============================] - 5s 86us/sample - loss: 0.6914 - val_loss: 0.6914\n",
            "Epoch 26/100\n",
            "60000/60000 [==============================] - 5s 87us/sample - loss: 0.6914 - val_loss: 0.6913\n",
            "Epoch 27/100\n",
            "60000/60000 [==============================] - 5s 86us/sample - loss: 0.6913 - val_loss: 0.6912\n",
            "Epoch 28/100\n",
            "60000/60000 [==============================] - 5s 86us/sample - loss: 0.6912 - val_loss: 0.6912\n",
            "Epoch 29/100\n",
            "60000/60000 [==============================] - 5s 85us/sample - loss: 0.6911 - val_loss: 0.6911\n",
            "Epoch 30/100\n",
            "60000/60000 [==============================] - 5s 85us/sample - loss: 0.6911 - val_loss: 0.6910\n",
            "Epoch 31/100\n",
            "60000/60000 [==============================] - 5s 86us/sample - loss: 0.6910 - val_loss: 0.6909\n",
            "Epoch 32/100\n",
            "60000/60000 [==============================] - 5s 85us/sample - loss: 0.6909 - val_loss: 0.6909\n",
            "Epoch 33/100\n",
            "60000/60000 [==============================] - 5s 86us/sample - loss: 0.6908 - val_loss: 0.6908\n",
            "Epoch 34/100\n",
            "60000/60000 [==============================] - 5s 90us/sample - loss: 0.6908 - val_loss: 0.6907\n",
            "Epoch 35/100\n",
            "60000/60000 [==============================] - 5s 86us/sample - loss: 0.6907 - val_loss: 0.6906\n",
            "Epoch 36/100\n",
            "60000/60000 [==============================] - 5s 85us/sample - loss: 0.6906 - val_loss: 0.6906\n",
            "Epoch 37/100\n",
            "60000/60000 [==============================] - 5s 87us/sample - loss: 0.6905 - val_loss: 0.6905\n",
            "Epoch 38/100\n",
            "60000/60000 [==============================] - 5s 85us/sample - loss: 0.6904 - val_loss: 0.6904\n",
            "Epoch 39/100\n",
            "60000/60000 [==============================] - 5s 86us/sample - loss: 0.6904 - val_loss: 0.6903\n",
            "Epoch 40/100\n",
            "60000/60000 [==============================] - 5s 85us/sample - loss: 0.6903 - val_loss: 0.6903\n",
            "Epoch 41/100\n",
            "60000/60000 [==============================] - 5s 86us/sample - loss: 0.6902 - val_loss: 0.6902\n",
            "Epoch 42/100\n",
            "60000/60000 [==============================] - 5s 85us/sample - loss: 0.6901 - val_loss: 0.6901\n",
            "Epoch 43/100\n",
            "60000/60000 [==============================] - 5s 86us/sample - loss: 0.6901 - val_loss: 0.6900\n",
            "Epoch 44/100\n",
            "60000/60000 [==============================] - 5s 86us/sample - loss: 0.6900 - val_loss: 0.6899\n",
            "Epoch 45/100\n",
            "60000/60000 [==============================] - 5s 88us/sample - loss: 0.6899 - val_loss: 0.6899\n",
            "Epoch 46/100\n",
            "60000/60000 [==============================] - 5s 91us/sample - loss: 0.6898 - val_loss: 0.6898\n",
            "Epoch 47/100\n",
            "60000/60000 [==============================] - 5s 85us/sample - loss: 0.6897 - val_loss: 0.6897\n",
            "Epoch 48/100\n",
            "60000/60000 [==============================] - 5s 86us/sample - loss: 0.6897 - val_loss: 0.6896\n",
            "Epoch 49/100\n",
            "60000/60000 [==============================] - 5s 87us/sample - loss: 0.6896 - val_loss: 0.6895\n",
            "Epoch 50/100\n",
            "60000/60000 [==============================] - 5s 87us/sample - loss: 0.6895 - val_loss: 0.6895\n",
            "Epoch 51/100\n",
            "60000/60000 [==============================] - 5s 86us/sample - loss: 0.6894 - val_loss: 0.6894\n",
            "Epoch 52/100\n",
            "60000/60000 [==============================] - 5s 85us/sample - loss: 0.6893 - val_loss: 0.6893\n",
            "Epoch 53/100\n",
            "60000/60000 [==============================] - 5s 86us/sample - loss: 0.6893 - val_loss: 0.6892\n",
            "Epoch 54/100\n",
            "60000/60000 [==============================] - 5s 86us/sample - loss: 0.6892 - val_loss: 0.6891\n",
            "Epoch 55/100\n",
            "60000/60000 [==============================] - 5s 84us/sample - loss: 0.6891 - val_loss: 0.6891\n",
            "Epoch 56/100\n",
            "60000/60000 [==============================] - 5s 87us/sample - loss: 0.6890 - val_loss: 0.6890\n",
            "Epoch 57/100\n",
            "60000/60000 [==============================] - 5s 91us/sample - loss: 0.6889 - val_loss: 0.6889\n",
            "Epoch 58/100\n",
            "60000/60000 [==============================] - 5s 90us/sample - loss: 0.6888 - val_loss: 0.6888\n",
            "Epoch 59/100\n",
            "60000/60000 [==============================] - 5s 86us/sample - loss: 0.6887 - val_loss: 0.6887\n",
            "Epoch 60/100\n",
            "60000/60000 [==============================] - 5s 87us/sample - loss: 0.6887 - val_loss: 0.6886\n",
            "Epoch 61/100\n",
            "60000/60000 [==============================] - 5s 88us/sample - loss: 0.6886 - val_loss: 0.6885\n",
            "Epoch 62/100\n",
            "60000/60000 [==============================] - 5s 87us/sample - loss: 0.6885 - val_loss: 0.6885\n",
            "Epoch 63/100\n",
            "60000/60000 [==============================] - 5s 87us/sample - loss: 0.6884 - val_loss: 0.6884\n",
            "Epoch 64/100\n",
            "60000/60000 [==============================] - 5s 87us/sample - loss: 0.6883 - val_loss: 0.6883\n",
            "Epoch 65/100\n",
            "60000/60000 [==============================] - 5s 85us/sample - loss: 0.6882 - val_loss: 0.6882\n",
            "Epoch 66/100\n",
            "60000/60000 [==============================] - 5s 85us/sample - loss: 0.6881 - val_loss: 0.6881\n",
            "Epoch 67/100\n",
            "60000/60000 [==============================] - 5s 86us/sample - loss: 0.6880 - val_loss: 0.6880\n",
            "Epoch 68/100\n",
            "60000/60000 [==============================] - 5s 88us/sample - loss: 0.6879 - val_loss: 0.6879\n",
            "Epoch 69/100\n",
            "60000/60000 [==============================] - 5s 89us/sample - loss: 0.6879 - val_loss: 0.6878\n",
            "Epoch 70/100\n",
            "60000/60000 [==============================] - 5s 87us/sample - loss: 0.6878 - val_loss: 0.6877\n",
            "Epoch 71/100\n",
            "60000/60000 [==============================] - 5s 87us/sample - loss: 0.6877 - val_loss: 0.6876\n",
            "Epoch 72/100\n",
            "60000/60000 [==============================] - 5s 89us/sample - loss: 0.6876 - val_loss: 0.6875\n",
            "Epoch 73/100\n",
            "60000/60000 [==============================] - 5s 88us/sample - loss: 0.6875 - val_loss: 0.6874\n",
            "Epoch 74/100\n",
            "60000/60000 [==============================] - 5s 87us/sample - loss: 0.6874 - val_loss: 0.6873\n",
            "Epoch 75/100\n",
            "60000/60000 [==============================] - 5s 87us/sample - loss: 0.6873 - val_loss: 0.6872\n",
            "Epoch 76/100\n",
            "60000/60000 [==============================] - 5s 86us/sample - loss: 0.6872 - val_loss: 0.6871\n",
            "Epoch 77/100\n",
            "60000/60000 [==============================] - 5s 86us/sample - loss: 0.6871 - val_loss: 0.6870\n",
            "Epoch 78/100\n",
            "60000/60000 [==============================] - 5s 85us/sample - loss: 0.6870 - val_loss: 0.6869\n",
            "Epoch 79/100\n",
            "60000/60000 [==============================] - 5s 88us/sample - loss: 0.6869 - val_loss: 0.6868\n",
            "Epoch 80/100\n",
            "60000/60000 [==============================] - 6s 97us/sample - loss: 0.6868 - val_loss: 0.6867\n",
            "Epoch 81/100\n",
            "60000/60000 [==============================] - 5s 88us/sample - loss: 0.6867 - val_loss: 0.6866\n",
            "Epoch 82/100\n",
            "60000/60000 [==============================] - 5s 86us/sample - loss: 0.6866 - val_loss: 0.6865\n",
            "Epoch 83/100\n",
            "60000/60000 [==============================] - 5s 89us/sample - loss: 0.6864 - val_loss: 0.6864\n",
            "Epoch 84/100\n",
            "60000/60000 [==============================] - 5s 88us/sample - loss: 0.6863 - val_loss: 0.6863\n",
            "Epoch 85/100\n",
            "60000/60000 [==============================] - 5s 88us/sample - loss: 0.6862 - val_loss: 0.6862\n",
            "Epoch 86/100\n",
            "60000/60000 [==============================] - 5s 86us/sample - loss: 0.6861 - val_loss: 0.6861\n",
            "Epoch 87/100\n",
            "60000/60000 [==============================] - 5s 89us/sample - loss: 0.6860 - val_loss: 0.6859\n",
            "Epoch 88/100\n",
            "60000/60000 [==============================] - 5s 86us/sample - loss: 0.6859 - val_loss: 0.6858\n",
            "Epoch 89/100\n",
            "60000/60000 [==============================] - 5s 84us/sample - loss: 0.6857 - val_loss: 0.6857\n",
            "Epoch 90/100\n",
            "60000/60000 [==============================] - 5s 85us/sample - loss: 0.6856 - val_loss: 0.6856\n",
            "Epoch 91/100\n",
            "60000/60000 [==============================] - 5s 88us/sample - loss: 0.6855 - val_loss: 0.6854\n",
            "Epoch 92/100\n",
            "60000/60000 [==============================] - 5s 88us/sample - loss: 0.6854 - val_loss: 0.6853\n",
            "Epoch 93/100\n",
            "60000/60000 [==============================] - 5s 87us/sample - loss: 0.6852 - val_loss: 0.6852\n",
            "Epoch 94/100\n",
            "60000/60000 [==============================] - 5s 86us/sample - loss: 0.6851 - val_loss: 0.6850\n",
            "Epoch 95/100\n",
            "60000/60000 [==============================] - 5s 88us/sample - loss: 0.6850 - val_loss: 0.6849\n",
            "Epoch 96/100\n",
            "60000/60000 [==============================] - 5s 87us/sample - loss: 0.6848 - val_loss: 0.6848\n",
            "Epoch 97/100\n",
            "60000/60000 [==============================] - 5s 88us/sample - loss: 0.6847 - val_loss: 0.6846\n",
            "Epoch 98/100\n",
            "60000/60000 [==============================] - 5s 86us/sample - loss: 0.6846 - val_loss: 0.6845\n",
            "Epoch 99/100\n",
            "60000/60000 [==============================] - 5s 86us/sample - loss: 0.6844 - val_loss: 0.6843\n",
            "Epoch 100/100\n",
            "60000/60000 [==============================] - 5s 86us/sample - loss: 0.6843 - val_loss: 0.6842\n"
          ],
          "name": "stdout"
        },
        {
          "output_type": "execute_result",
          "data": {
            "text/plain": [
              "<tensorflow.python.keras.callbacks.History at 0x7f92e2a43be0>"
            ]
          },
          "metadata": {
            "tags": []
          },
          "execution_count": 42
        }
      ]
    },
    {
      "cell_type": "code",
      "metadata": {
        "id": "Oz-vpqZhmXR5",
        "colab_type": "code",
        "colab": {}
      },
      "source": [
        "encoder=Model(input_img,encoded)  # This model maps an input to its encoded  representation\n"
      ],
      "execution_count": 0,
      "outputs": []
    },
    {
      "cell_type": "code",
      "metadata": {
        "id": "Ghc7FdaamXSA",
        "colab_type": "code",
        "colab": {}
      },
      "source": [
        "# encoded_input=Input(shape=(encoding_dim,))\n",
        "# decoder_layer=autoencoder.layers[-1]\n",
        "# decoder=Model(encoded_input,decoder_layer(encoded_input))"
      ],
      "execution_count": 0,
      "outputs": []
    },
    {
      "cell_type": "code",
      "metadata": {
        "id": "-w4yssgSmXSD",
        "colab_type": "code",
        "colab": {},
        "outputId": "3e336123-0153-4831-e963-16fcf578a6c0"
      },
      "source": [
        "encoded_imgs=encoder.predict(x_test)\n",
        "decoded_imgs=decoder.predict(encoded_imgs)\n"
      ],
      "execution_count": 0,
      "outputs": [
        {
          "output_type": "stream",
          "text": [
            "i\n",
            "love\n",
            "you\n",
            "madan\n"
          ],
          "name": "stdout"
        }
      ]
    },
    {
      "cell_type": "code",
      "metadata": {
        "id": "wkRoy6tzmXSI",
        "colab_type": "code",
        "colab": {},
        "outputId": "ad8da0a6-adff-4c48-9149-e9165051607c"
      },
      "source": [
        "import matplotlib.pyplot as plt\n",
        "n=10\n",
        "plt.figure(figsize=(20,4))\n",
        "for i in range(n):\n",
        "  # display original\n",
        "  ax=plt.subplot(2,n,i+1)\n",
        "  plt.imshow(x_test[i].reshape(28,28))\n",
        "  plt.gray()\n",
        "  ax.get_xaxis().set_visible(False)\n",
        "  ax.get_yaxis().set_visible(False)\n",
        "\n",
        "  # display reconstruction\n",
        "  ax=plt.subplot(2,n,i+1+n)\n",
        "  plt.imshow(decoded_imgs[i].reshape(28,28))\n",
        "  plt.gray()\n",
        "  ax.get_xaxis().set_visible(False)\n",
        "  ax.get_yaxis().set_visible(False)\n",
        "plt.show()\n",
        "\n"
      ],
      "execution_count": 0,
      "outputs": [
        {
          "output_type": "stream",
          "text": [
            "1\n"
          ],
          "name": "stdout"
        }
      ]
    },
    {
      "cell_type": "code",
      "metadata": {
        "id": "mGAFxdEKmXSM",
        "colab_type": "code",
        "colab": {},
        "outputId": "4fb4200a-0664-41e5-9dbc-1bb0e3e6b475"
      },
      "source": [
        "number=input('enter any 10 number')\n"
      ],
      "execution_count": 0,
      "outputs": [
        {
          "output_type": "stream",
          "text": [
            "enter any 10 number1,2,3,4\n"
          ],
          "name": "stdout"
        }
      ]
    },
    {
      "cell_type": "code",
      "metadata": {
        "id": "Z3JsuNf_mXSR",
        "colab_type": "code",
        "colab": {},
        "outputId": "11430d5e-94bb-4e76-94d2-02d1536a989b"
      },
      "source": [
        "ls=[]\n",
        "greater=0\n",
        "ls=number.split()\n",
        "for i in ls:\n",
        "     if int(i)>greater: \n",
        "            greater=i\n",
        "print(greater)\n",
        "    "
      ],
      "execution_count": 0,
      "outputs": [
        {
          "output_type": "error",
          "ename": "ValueError",
          "evalue": "invalid literal for int() with base 10: '1,2,3,4'",
          "traceback": [
            "\u001b[1;31m---------------------------------------------------------------------------\u001b[0m",
            "\u001b[1;31mValueError\u001b[0m                                Traceback (most recent call last)",
            "\u001b[1;32m<ipython-input-20-2df753759c10>\u001b[0m in \u001b[0;36m<module>\u001b[1;34m\u001b[0m\n\u001b[0;32m      3\u001b[0m \u001b[0mls\u001b[0m\u001b[1;33m=\u001b[0m\u001b[0mnumber\u001b[0m\u001b[1;33m.\u001b[0m\u001b[0msplit\u001b[0m\u001b[1;33m(\u001b[0m\u001b[1;33m)\u001b[0m\u001b[1;33m\u001b[0m\u001b[1;33m\u001b[0m\u001b[0m\n\u001b[0;32m      4\u001b[0m \u001b[1;32mfor\u001b[0m \u001b[0mi\u001b[0m \u001b[1;32min\u001b[0m \u001b[0mls\u001b[0m\u001b[1;33m:\u001b[0m\u001b[1;33m\u001b[0m\u001b[1;33m\u001b[0m\u001b[0m\n\u001b[1;32m----> 5\u001b[1;33m      \u001b[1;32mif\u001b[0m \u001b[0mint\u001b[0m\u001b[1;33m(\u001b[0m\u001b[0mi\u001b[0m\u001b[1;33m)\u001b[0m\u001b[1;33m>\u001b[0m\u001b[0mgreater\u001b[0m\u001b[1;33m:\u001b[0m\u001b[1;33m\u001b[0m\u001b[1;33m\u001b[0m\u001b[0m\n\u001b[0m\u001b[0;32m      6\u001b[0m             \u001b[0mgreater\u001b[0m\u001b[1;33m=\u001b[0m\u001b[0mi\u001b[0m\u001b[1;33m\u001b[0m\u001b[1;33m\u001b[0m\u001b[0m\n\u001b[0;32m      7\u001b[0m \u001b[0mprint\u001b[0m\u001b[1;33m(\u001b[0m\u001b[0mgreater\u001b[0m\u001b[1;33m)\u001b[0m\u001b[1;33m\u001b[0m\u001b[1;33m\u001b[0m\u001b[0m\n",
            "\u001b[1;31mValueError\u001b[0m: invalid literal for int() with base 10: '1,2,3,4'"
          ]
        }
      ]
    },
    {
      "cell_type": "code",
      "metadata": {
        "id": "mVkKI7wwmXSV",
        "colab_type": "code",
        "colab": {}
      },
      "source": [
        ""
      ],
      "execution_count": 0,
      "outputs": []
    }
  ]
}