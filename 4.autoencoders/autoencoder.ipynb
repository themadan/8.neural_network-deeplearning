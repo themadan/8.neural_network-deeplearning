{
  "nbformat": 4,
  "nbformat_minor": 0,
  "metadata": {
    "colab": {
      "name": "Untitled0.ipynb",
      "provenance": []
    },
    "kernelspec": {
      "name": "python3",
      "display_name": "Python 3"
    }
  },
  "cells": [
    {
      "cell_type": "markdown",
      "metadata": {
        "id": "imHg1-otEkN8",
        "colab_type": "text"
      },
      "source": [
        "[Paper for Autoencoder](https://arxiv.org/pdf/1312.6114.pdf)"
      ]
    },
    {
      "cell_type": "markdown",
      "metadata": {
        "id": "pknsKpYgjsma",
        "colab_type": "text"
      },
      "source": [
        "# Auto encoder:: encoder and decoder lai xutai xutai bugni.\n",
        "# GAN ma pani generator and discriminitator xutta xuttai bugni.\n",
        "\n",
        "# AutoEncoder(key point::( **label = input sanga related hunxa fix**) baki tai error optimization garni ho)\n",
        "* self-supervise\n",
        "* In more terms, autoencoding is a data compression and data decompression algorithm \n",
        "\n",
        "# Why Autoencoder\n",
        "* Data Denoising and dimentionality reduction."
      ]
    },
    {
      "cell_type": "markdown",
      "metadata": {
        "id": "hm1alvIbFJWo",
        "colab_type": "text"
      },
      "source": [
        "# 1.Undercomplete autoencoder\n",
        "𝐿(𝑥, 𝑔 𝑓( 𝑥) )\n",
        "# 2.Regularized autoencoders\n",
        "\n",
        "# 3.Sparse autoencoder\n",
        "𝐿(𝑥, 𝑔 𝑓 ((𝑥)) + Ω(ℎ)\n",
        "# 4.Contractive Autoencoder \n",
        " E= L(x,g(f(x)) +λ∑i||∇x hi||2\n",
        " # 5.Denoising Autoencoder\n",
        " E = L(x(i),g(f(x˜)))\n",
        " # 6.Variational Autoencoder\n",
        " \n",
        "\n",
        "\n"
      ]
    },
    {
      "cell_type": "code",
      "metadata": {
        "id": "gLpZx8B_i5pf",
        "colab_type": "code",
        "colab": {}
      },
      "source": [
        ""
      ],
      "execution_count": 0,
      "outputs": []
    }
  ]
}