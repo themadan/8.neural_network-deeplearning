{
  "nbformat": 4,
  "nbformat_minor": 0,
  "metadata": {
    "colab": {
      "name": "Untitled0.ipynb",
      "provenance": []
    },
    "kernelspec": {
      "name": "python3",
      "display_name": "Python 3"
    }
  },
  "cells": [
    {
      "cell_type": "markdown",
      "metadata": {
        "id": "O9FrKCvgoa2N",
        "colab_type": "text"
      },
      "source": [
        "# x[:,0]  first bracket bhitra gayara all and 0 index ko sabai value nikalxa\n",
        "#x[:,1] first bracker bhitra gayara all and 1 index ko sabai nikalxa \n",
        "# x[:,:,0] first bracket bhitra janxa ,ajhai second bracket bhitra janxa and tesko index 0 ko sabai value nikalxa"
      ]
    },
    {
      "cell_type": "markdown",
      "metadata": {
        "id": "kBduFKgtp8Nr",
        "colab_type": "text"
      },
      "source": [
        "# **auta row input(x) ko lagi auta row label(y) **\n",
        "# **array ko ni yasari nai concept banauni.** "
      ]
    },
    {
      "cell_type": "code",
      "metadata": {
        "id": "DuFlZlfMe6Vt",
        "colab_type": "code",
        "colab": {
          "base_uri": "https://localhost:8080/",
          "height": 35
        },
        "outputId": "1d7bd4a7-3ddf-4483-a49f-2704eb3e6fb2"
      },
      "source": [
        "pip install numpy"
      ],
      "execution_count": 64,
      "outputs": [
        {
          "output_type": "stream",
          "text": [
            "Requirement already satisfied: numpy in /usr/local/lib/python3.6/dist-packages (1.17.5)\n"
          ],
          "name": "stdout"
        }
      ]
    },
    {
      "cell_type": "code",
      "metadata": {
        "id": "YUcBKhaffCz-",
        "colab_type": "code",
        "colab": {
          "base_uri": "https://localhost:8080/",
          "height": 161
        },
        "outputId": "5f3361f2-2e65-4886-d45b-86e581be49e8"
      },
      "source": [
        "pip install matplotlib"
      ],
      "execution_count": 65,
      "outputs": [
        {
          "output_type": "stream",
          "text": [
            "Requirement already satisfied: matplotlib in /usr/local/lib/python3.6/dist-packages (3.1.3)\n",
            "Requirement already satisfied: cycler>=0.10 in /usr/local/lib/python3.6/dist-packages (from matplotlib) (0.10.0)\n",
            "Requirement already satisfied: kiwisolver>=1.0.1 in /usr/local/lib/python3.6/dist-packages (from matplotlib) (1.1.0)\n",
            "Requirement already satisfied: numpy>=1.11 in /usr/local/lib/python3.6/dist-packages (from matplotlib) (1.17.5)\n",
            "Requirement already satisfied: pyparsing!=2.0.4,!=2.1.2,!=2.1.6,>=2.0.1 in /usr/local/lib/python3.6/dist-packages (from matplotlib) (2.4.6)\n",
            "Requirement already satisfied: python-dateutil>=2.1 in /usr/local/lib/python3.6/dist-packages (from matplotlib) (2.6.1)\n",
            "Requirement already satisfied: six in /usr/local/lib/python3.6/dist-packages (from cycler>=0.10->matplotlib) (1.12.0)\n",
            "Requirement already satisfied: setuptools in /usr/local/lib/python3.6/dist-packages (from kiwisolver>=1.0.1->matplotlib) (45.1.0)\n"
          ],
          "name": "stdout"
        }
      ]
    },
    {
      "cell_type": "code",
      "metadata": {
        "id": "7914z7yflk6k",
        "colab_type": "code",
        "colab": {
          "base_uri": "https://localhost:8080/",
          "height": 107
        },
        "outputId": "0e5be2be-f22a-4c69-8012-144cb5e29813"
      },
      "source": [
        "pip install sklearn"
      ],
      "execution_count": 66,
      "outputs": [
        {
          "output_type": "stream",
          "text": [
            "Requirement already satisfied: sklearn in /usr/local/lib/python3.6/dist-packages (0.0)\n",
            "Requirement already satisfied: scikit-learn in /usr/local/lib/python3.6/dist-packages (from sklearn) (0.22.1)\n",
            "Requirement already satisfied: scipy>=0.17.0 in /usr/local/lib/python3.6/dist-packages (from scikit-learn->sklearn) (1.4.1)\n",
            "Requirement already satisfied: joblib>=0.11 in /usr/local/lib/python3.6/dist-packages (from scikit-learn->sklearn) (0.14.1)\n",
            "Requirement already satisfied: numpy>=1.11.0 in /usr/local/lib/python3.6/dist-packages (from scikit-learn->sklearn) (1.17.5)\n"
          ],
          "name": "stdout"
        }
      ]
    },
    {
      "cell_type": "code",
      "metadata": {
        "id": "IZNR47y1lnFE",
        "colab_type": "code",
        "colab": {}
      },
      "source": [
        "import numpy as np\n",
        "import matplotlib.pyplot as plt\n",
        "import sklearn.datasets "
      ],
      "execution_count": 0,
      "outputs": []
    },
    {
      "cell_type": "code",
      "metadata": {
        "id": "r8j6Dppql8Pb",
        "colab_type": "code",
        "colab": {
          "base_uri": "https://localhost:8080/",
          "height": 53
        },
        "outputId": "0c9b9138-0307-4917-c658-50a0345f0a64"
      },
      "source": [
        "x,y=sklearn.datasets.make_moons(200,noise=0.15)\n",
        "print(x.shape)\n",
        "print(y.shape)\n"
      ],
      "execution_count": 93,
      "outputs": [
        {
          "output_type": "stream",
          "text": [
            "(200, 2)\n",
            "(200,)\n"
          ],
          "name": "stdout"
        }
      ]
    },
    {
      "cell_type": "code",
      "metadata": {
        "id": "m6H7Y2agmVL3",
        "colab_type": "code",
        "colab": {
          "base_uri": "https://localhost:8080/",
          "height": 283
        },
        "outputId": "74d6045d-fd17-47e8-ae93-9ee92c4f1487"
      },
      "source": [
        "plt.scatter(x[:,0],x[:,1],c=y)"
      ],
      "execution_count": 95,
      "outputs": [
        {
          "output_type": "execute_result",
          "data": {
            "text/plain": [
              "<matplotlib.collections.PathCollection at 0x7fc3fccdeeb8>"
            ]
          },
          "metadata": {
            "tags": []
          },
          "execution_count": 95
        },
        {
          "output_type": "display_data",
          "data": {
            "image/png": "[encoded data removed]",
            "text/plain": [
              "<Figure size 432x288 with 1 Axes>"
            ]
          },
          "metadata": {
            "tags": []
          }
        }
      ]
    },
    {
      "cell_type": "code",
      "metadata": {
        "id": "_GdTp8HKmY4q",
        "colab_type": "code",
        "colab": {
          "base_uri": "https://localhost:8080/",
          "height": 35
        },
        "outputId": "d3e5478f-64fd-4329-a291-51214915bce2"
      },
      "source": [
        "print(x.shape,y.shape)"
      ],
      "execution_count": 70,
      "outputs": [
        {
          "output_type": "stream",
          "text": [
            "(200, 2) (200,)\n"
          ],
          "name": "stdout"
        }
      ]
    },
    {
      "cell_type": "code",
      "metadata": {
        "id": "nLul3yUEpyM7",
        "colab_type": "code",
        "colab": {}
      },
      "source": [
        "input_nurons=2\n",
        "output_neurons=2\n",
        "samples=x.shape[0]\n",
        "learning_rate=0.001"
      ],
      "execution_count": 0,
      "outputs": []
    },
    {
      "cell_type": "code",
      "metadata": {
        "id": "RyYvkcHCrFho",
        "colab_type": "code",
        "colab": {}
      },
      "source": [
        "def retreive (model_dict):  # retrive vanni function le mode_dict-dictionary ko data retrive garxa\n",
        "  w1=model_dict['w1']\n",
        "  b1=model_dict['b1']\n",
        "  w2=model_dict['w2']\n",
        "  b2=model_dict['b2']\n",
        "  return w1,b1,w2,b2"
      ],
      "execution_count": 0,
      "outputs": []
    },
    {
      "cell_type": "code",
      "metadata": {
        "id": "I8nS8t4jtijr",
        "colab_type": "code",
        "colab": {}
      },
      "source": [
        "def forward(x,model_dict):\n",
        "  w1,b1,w2,b2=retreive(model_dict)\n",
        "  z1=np.matmul(x,w1)+b1\n",
        "  a1=np.tanh(z1)\n",
        "  z2=np.matmul(a1,w2)+b2\n",
        "  exp_scores=np.exp(z2)\n",
        "  softmax=exp_scores/np.sum(exp_scores,axis=1,keepdims=True) # softmax vaneko predicted value dennxa\n",
        "  return z1,a1,softmax"
      ],
      "execution_count": 0,
      "outputs": []
    },
    {
      "cell_type": "code",
      "metadata": {
        "id": "6Lc-c6Xvt1hN",
        "colab_type": "code",
        "colab": {}
      },
      "source": [
        "def loss (softmax,y,model_dict):\n",
        "    w1,b1,w2,b2=retreive(model_dict)\n",
        "    m=np.zeros(200)\n",
        "    for i ,correct_index in enumerate(y):\n",
        "      predicted=softmax[i][correct_index]\n",
        "      m[i]=predicted\n",
        "    log_probs=-np.log(m)\n",
        "    loss=np.sum(log_probs)/y.shape[0]\n",
        "    return float(loss)\n",
        "\n",
        "\n"
      ],
      "execution_count": 0,
      "outputs": []
    },
    {
      "cell_type": "code",
      "metadata": {
        "id": "Hw-FCxtzyqMg",
        "colab_type": "code",
        "colab": {}
      },
      "source": [
        "def backpropagation(x,y,model_dict,epochs):\n",
        "  for i in range(epochs):\n",
        "        w1,b1,w2,b2=retreive(model_dict)\n",
        "        z1,a1,probs=forward(x,model_dict)\n",
        "        delta3=np.copy(probs)\n",
        "        delta3[range(x.shape[0]),y]-=1 # (200,1)\n",
        "        dw2=np.matmul((a1.T),delta3) #(3,2)\n",
        "        db2=np.sum(delta3,axis=0,keepdims=True) #(1,2)\n",
        "        delta2=np.matmul(delta3,w2.T)*(1-np.power(np.tanh(z1),2))\n",
        "        dw1=np.matmul(x.T,delta2)\n",
        "        db1=np.sum(delta2,axis=0)\n",
        "        # update weight and bias \n",
        "        w1+=-learning_rate*dw1\n",
        "        w2+=-learning_rate*dw2\n",
        "        b1+=-learning_rate*db1\n",
        "        b2+=-learning_rate*db2\n",
        "        model_dict={'w1':w1,'b1':b1,'w2':w2,'b2':b2}\n",
        "        if i%50==0:\n",
        "          print(\"loss at epoch{} id {:.3f}\".format(i,loss(probs,y,model_dict)))\n",
        "        return model_dict \n",
        "\n",
        "\n",
        "\n"
      ],
      "execution_count": 0,
      "outputs": []
    },
    {
      "cell_type": "code",
      "metadata": {
        "id": "VL4i6iga05o_",
        "colab_type": "code",
        "colab": {}
      },
      "source": [
        "def init_network(input_dim,hidden_dim,output_dim): # parameter initialization\n",
        "  model={}\n",
        "  w1=np.random.randn(input_dim,hidden_dim)\n",
        "  w2=np.random.randn(hidden_dim,output_dim)\n",
        "  b1=np.zeros((1,hidden_dim))\n",
        "  b2=np.zeros((1,output_dim))\n",
        "  model[\"w1\"]=w1\n",
        "  model[\"b1\"]=b1\n",
        "  model[\"w2\"]=w2\n",
        "  model[\"b2\"]=b2\n",
        "  return model\n",
        "\n",
        "\n"
      ],
      "execution_count": 0,
      "outputs": []
    },
    {
      "cell_type": "code",
      "metadata": {
        "id": "7FMwe7tX06VU",
        "colab_type": "code",
        "colab": {}
      },
      "source": [
        "model_dict=init_network(input_dim=input_nurons,hidden_dim=3,output_dim=output_neurons)"
      ],
      "execution_count": 0,
      "outputs": []
    },
    {
      "cell_type": "code",
      "metadata": {
        "id": "iJxxJmDM1CpZ",
        "colab_type": "code",
        "colab": {
          "base_uri": "https://localhost:8080/",
          "height": 143
        },
        "outputId": "f0b5f166-7314-46f6-f073-31f25854a487"
      },
      "source": [
        "model_dict"
      ],
      "execution_count": 83,
      "outputs": [
        {
          "output_type": "execute_result",
          "data": {
            "text/plain": [
              "{'b1': array([[0., 0., 0.]]),\n",
              " 'b2': array([[0., 0.]]),\n",
              " 'w1': array([[ 0.31240277,  0.77242943,  1.00309419],\n",
              "        [ 0.365842  , -0.02924839,  0.29312357]]),\n",
              " 'w2': array([[-0.23634698,  0.51895667],\n",
              "        [ 0.1580319 ,  0.37985631],\n",
              "        [-0.30360461, -0.61688387]])}"
            ]
          },
          "metadata": {
            "tags": []
          },
          "execution_count": 83
        }
      ]
    },
    {
      "cell_type": "code",
      "metadata": {
        "id": "Jg-4o47U1DRj",
        "colab_type": "code",
        "colab": {
          "base_uri": "https://localhost:8080/",
          "height": 35
        },
        "outputId": "c43c42f6-a2ef-4e7f-bf25-26793bbb516f"
      },
      "source": [
        "model=backpropagation(x,y,model_dict,epochs=10000)"
      ],
      "execution_count": 85,
      "outputs": [
        {
          "output_type": "stream",
          "text": [
            "loss at epoch0 id 0.676\n"
          ],
          "name": "stdout"
        }
      ]
    },
    {
      "cell_type": "code",
      "metadata": {
        "id": "3AacfGOJ1Sud",
        "colab_type": "code",
        "colab": {}
      },
      "source": [
        ""
      ],
      "execution_count": 0,
      "outputs": []
    },
    {
      "cell_type": "code",
      "metadata": {
        "id": "dONFyNYHCcU1",
        "colab_type": "code",
        "colab": {}
      },
      "source": [
        ""
      ],
      "execution_count": 0,
      "outputs": []
    }
  ]
}