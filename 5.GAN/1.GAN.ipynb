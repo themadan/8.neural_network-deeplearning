{
  "nbformat": 4,
  "nbformat_minor": 0,
  "metadata": {
    "colab": {
      "name": "Untitled0.ipynb",
      "provenance": []
    },
    "kernelspec": {
      "name": "python3",
      "display_name": "Python 3"
    }
  },
  "cells": [
    {
      "cell_type": "markdown",
      "metadata": {
        "id": "-T09zdeF4EwZ",
        "colab_type": "text"
      },
      "source": [
        "# GAN::Generator ra Discrimininator lai xutta xuttai bugni. Code garda ni xuttai xuttai bugni.\n",
        "# autoencoder:: GAN ma jastai yasma ni encoder and decoder lai bugni . code garda ni yasma xutta xuttai garni.ok "
      ]
    },
    {
      "cell_type": "markdown",
      "metadata": {
        "id": "xVxbZYj3xPze",
        "colab_type": "text"
      },
      "source": [
        "![alt text](https://raw.githubusercontent.com/themadan/8.neural_network-deeplearning/master/5.GAN/images/GAN0.png)"
      ]
    },
    {
      "cell_type": "markdown",
      "metadata": {
        "id": "SQ5IUpRdsGXa",
        "colab_type": "text"
      },
      "source": [
        "# 1. Input noise signal to the generator.\n",
        "# GENERATOR:\n",
        "* Generator=Deconvolution network\n",
        "ie. input=noise vector,\n",
        "    output=image\n",
        "\n",
        "#  DISCRIMINATOR(just a cassification network)\n",
        "* Discriminator=Convolution network\n",
        "* A neural network able to classify images(real or fake).\n",
        "\n",
        "\n",
        "\n",
        "\n",
        "![alt text](https://raw.githubusercontent.com/themadan/8.neural_network-deeplearning/master/5.GAN/images/GAN1.png)\n"
      ]
    },
    {
      "cell_type": "markdown",
      "metadata": {
        "id": "SOH23XMAsWxm",
        "colab_type": "text"
      },
      "source": [
        "# 2.\n",
        "![alt text](https://raw.githubusercontent.com/themadan/8.neural_network-deeplearning/master/5.GAN/images/GAN2.png)"
      ]
    },
    {
      "cell_type": "markdown",
      "metadata": {
        "id": "Dsg7RQtnsfpw",
        "colab_type": "text"
      },
      "source": [
        "# 3.\n",
        "* rp1:probability of real image sample1.\n",
        "  rp2:probability of real image sample2.\n",
        "  fp1:probability of fake image sample1.\n",
        "  fp2:probability of fake image sample2.\n",
        "![alt text](https://raw.githubusercontent.com/themadan/8.neural_network-deeplearning/master/5.GAN/images/GAN3.png)"
      ]
    },
    {
      "cell_type": "markdown",
      "metadata": {
        "id": "VDzy6GpHsoje",
        "colab_type": "text"
      },
      "source": [
        "# 4.\n",
        "* 1:actual label\n",
        "* 0:fake label\n",
        "* calculate the loss .\n",
        "* update weight of discriminator.\n",
        "\n",
        "![alt text](https://raw.githubusercontent.com/themadan/8.neural_network-deeplearning/master/5.GAN/images/GAN4.png)"
      ]
    },
    {
      "cell_type": "markdown",
      "metadata": {
        "id": "dtxLJ9HTsyNJ",
        "colab_type": "text"
      },
      "source": [
        "# 4. \n",
        "* no real training example.\n",
        "p1,p2 probability of fake image\n",
        "![alt text](https://raw.githubusercontent.com/themadan/8.neural_network-deeplearning/master/5.GAN/images/GAN5.png)"
      ]
    },
    {
      "cell_type": "markdown",
      "metadata": {
        "id": "XVwbHF7es-aS",
        "colab_type": "text"
      },
      "source": [
        "# 5. Fool the discriminator , we label the fake image as a actual image label and update the parameter of generator.\n",
        "* we fool the \n",
        "![alt text](https://raw.githubusercontent.com/themadan/8.neural_network-deeplearning/master/5.GAN/images/GAN6.png).\n"
      ]
    },
    {
      "cell_type": "markdown",
      "metadata": {
        "id": "a3k4N_XftRuc",
        "colab_type": "text"
      },
      "source": [
        "# 6. Some epoch of training. Repeat from Step2 again.\n",
        "![alt text](https://raw.githubusercontent.com/themadan/8.neural_network-deeplearning/master/5.GAN/images/GAN7.png)"
      ]
    },
    {
      "cell_type": "markdown",
      "metadata": {
        "id": "WztN1YbitsMG",
        "colab_type": "text"
      },
      "source": [
        "# REPEAT FROM 2"
      ]
    },
    {
      "cell_type": "markdown",
      "metadata": {
        "id": "i57Krh5Atw5v",
        "colab_type": "text"
      },
      "source": [
        "# LOSS FUNCTION \n",
        "* **Discrimininator ko parameter update garda  label 1 (actual) ,0(fake) so crossentropy ko formula ma rakhara herni.same hunxa. **\n",
        "* **Generator ko parameter update garda label 1 matra hunxa so cross entropy ko back side ko audain .**\n",
        "![alt text](https://raw.githubusercontent.com/themadan/8.neural_network-deeplearning/master/5.GAN/images/GAN8.png)"
      ]
    },
    {
      "cell_type": "markdown",
      "metadata": {
        "id": "iEXVupq3uc9z",
        "colab_type": "text"
      },
      "source": [
        "# GAN vaneko minimax game jastai ho.\n",
        "* **Generator le fool banauna khojxa label 1  banayra parameter update garyara real jastai banaun khojxa .**\n",
        "![alt text](https://raw.githubusercontent.com/themadan/8.neural_network-deeplearning/master/5.GAN/images/GAN9.png)"
      ]
    },
    {
      "cell_type": "markdown",
      "metadata": {
        "id": "fV7evX462r2N",
        "colab_type": "text"
      },
      "source": [
        "# Activation function for GAN\n",
        "* Leaky RELU is the best activation for the a\n",
        "# Downsampling \n",
        "* It is not recommend to use Max Polling for downsampling .\n",
        "\n",
        "* Insted these downsampling methods are recommended \n",
        " i:Average Polling ,\n",
        " ii:Convolution with a stride selection.\n",
        " # Label smoothing and Droupout.\n",
        " * Label Smoothing regularization usually works well.\n",
        " * Use Dropout with a drop probability of 0.5 in the generator\n",
        "\n",
        " # Optimization and batch normalization\n",
        " * Use SGD for discriminator and Adam for Generator.\n",
        " * Batch normalization also works well."
      ]
    },
    {
      "cell_type": "markdown",
      "metadata": {
        "id": "Zm7dhTMZ5Nx6",
        "colab_type": "text"
      },
      "source": [
        "# Problem with training GAN\n",
        "* Model collapse and vanishing gradient  of the discriminator\n",
        "\n",
        "![alt text](https://raw.githubusercontent.com/themadan/8.neural_network-deeplearning/master/5.GAN/images/GAN10.png)\n",
        "![alt text](https://raw.githubusercontent.com/themadan/8.neural_network-deeplearning/master/5.GAN/images/GAN11.png)\n",
        "\n",
        "![alt text](https://raw.githubusercontent.com/themadan/8.neural_network-deeplearning/master/5.GAN/images/GAN12.png)\n",
        "\n",
        "![alt text](https://raw.githubusercontent.com/themadan/8.neural_network-deeplearning/master/5.GAN/images/GAN13.png)"
      ]
    },
    {
      "cell_type": "code",
      "metadata": {
        "id": "gLpZx8B_i5pf",
        "colab_type": "code",
        "colab": {}
      },
      "source": [
        ""
      ],
      "execution_count": 0,
      "outputs": []
    }
  ]
}