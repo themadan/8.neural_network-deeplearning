{
  "nbformat": 4,
  "nbformat_minor": 0,
  "metadata": {
    "colab": {
      "name": "Untitled0.ipynb",
      "provenance": []
    },
    "kernelspec": {
      "name": "python3",
      "display_name": "Python 3"
    }
  },
  "cells": [
    {
      "cell_type": "markdown",
      "metadata": {
        "id": "3Gq4Gnao9Ol8",
        "colab_type": "text"
      },
      "source": [
        "# Wasserstein GAN\n",
        "WGAN avoid many problem in privious GAN.\n"
      ]
    },
    {
      "cell_type": "code",
      "metadata": {
        "id": "gLpZx8B_i5pf",
        "colab_type": "code",
        "colab": {}
      },
      "source": [
        ""
      ],
      "execution_count": 0,
      "outputs": []
    }
  ]
}